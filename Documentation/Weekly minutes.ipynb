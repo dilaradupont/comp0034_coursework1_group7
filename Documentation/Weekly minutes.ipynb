{
 "cells": [
  {
   "cell_type": "markdown",
   "metadata": {
    "collapsed": false
   },
   "source": [
    "## Week 1:\n",
    "### Done:\n",
    "\n",
    "a)Creation of Github repository\n",
    "\n",
    "b)Decision of Dataset to be used\n",
    "\n",
    "c)Set-up of weekly meetings\n",
    "\n",
    "d)Discussion on course of action\n",
    "\n",
    "e)Exploration of useful gitHub features\n",
    "\n",
    "### To do:\n",
    "\n",
    "a) Experiment with Github and Github branches\n",
    "\n",
    "b) Explore the dataset and brainstorm graph ideas\n",
    "\n",
    "c) Explore Week1 material\n",
    "\n",
    "### Issues\n",
    "\n",
    "None\n",
    "\n",
    "\n",
    "### Next meeting: 20/01/22 14:00 - 15:00"
   ]
  },
  {
   "cell_type": "markdown",
   "metadata": {},
   "source": []
  }
 ],
 "metadata": {
  "kernelspec": {
   "display_name": "Python 3",
   "language": "python",
   "name": "python3"
  },
  "language_info": {
   "codemirror_mode": {
    "name": "ipython",
    "version": 2
   },
   "file_extension": ".py",
   "mimetype": "text/x-python",
   "name": "python",
   "nbconvert_exporter": "python",
   "pygments_lexer": "ipython2",
   "version": "2.7.6"
  }
 },
 "nbformat": 4,
 "nbformat_minor": 0
}
